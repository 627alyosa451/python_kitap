{
  "nbformat": 4,
  "nbformat_minor": 0,
  "metadata": {
    "colab": {
      "provenance": [],
      "authorship_tag": "ABX9TyM8HPcdqaWCEkvC6M1LVaZH",
      "include_colab_link": true
    },
    "kernelspec": {
      "name": "python3",
      "display_name": "Python 3"
    },
    "language_info": {
      "name": "python"
    }
  },
  "cells": [
    {
      "cell_type": "markdown",
      "metadata": {
        "id": "view-in-github",
        "colab_type": "text"
      },
      "source": [
        "<a href=\"https://colab.research.google.com/github/627alyosa451/python_kitap/blob/main/yemek_listesi.ipynb\" target=\"_parent\"><img src=\"https://colab.research.google.com/assets/colab-badge.svg\" alt=\"Open In Colab\"/></a>"
      ]
    },
    {
      "cell_type": "code",
      "execution_count": null,
      "metadata": {
        "colab": {
          "base_uri": "https://localhost:8080/"
        },
        "id": "CCboVmbaW7Ew",
        "outputId": "da48fb12-ba0c-41b8-e3a7-eb8603e8996c"
      },
      "outputs": [
        {
          "output_type": "stream",
          "name": "stdout",
          "text": [
            "1. günün yemekleri: ['f', 'c', 'd']\n",
            "2. günün yemekleri: ['b', 'f', 'e']\n",
            "3. günün yemekleri: ['d', 'c', 'b']\n",
            "4. günün yemekleri: ['a', 'f', 'e']\n",
            "5. günün yemekleri: ['b', 'd', 'c']\n",
            "6. günün yemekleri: ['e', 'b', 'd']\n",
            "7. günün yemekleri: ['f', 'c', 'e']\n"
          ]
        }
      ],
      "source": [
        "import random\n",
        "yemekler = [\"a\",\"b\",\"c\",\"d\",\"e\",\"f\"]\n",
        "gununListesi = [1,2,3]\n",
        "\n",
        "for _ in range(7):\n",
        "\n",
        "  for i in range(3):\n",
        "    secilen = random.choice(yemekler)\n",
        "    while True:\n",
        "\n",
        "      if secilen not in gununListesi:\n",
        "        gununListesi[i] = secilen\n",
        "        break\n",
        "\n",
        "      else:\n",
        "        secilen = random.choice(yemekler)\n",
        "\n",
        "\n",
        "  print(f\"{_ + 1}. günün yemekleri: {gununListesi}\")\n"
      ]
    },
    {
      "cell_type": "code",
      "source": [
        "import random\n",
        "tatlılar = [\"x\",\"y\",\"z\",\"q\",\"w\",\"p\"]\n",
        "yemekler = [\"a\",\"b\",\"c\",\"d\",\"e\",\"f\"]\n",
        "\n",
        "secilenListe= [1,2,3,4]\n",
        "\n",
        "def sec(liste,kere,sayi = 0):\n",
        "  for i in range(kere):\n",
        "    i = sayi\n",
        "    while i < kere:\n",
        "      secilen = random.randint(0,5)\n",
        "      if liste[secilen] not in secilenListe:\n",
        "        secilenListe[i] = liste[secilen]\n",
        "        i +=1\n",
        "  return secilenListe\n",
        "\n",
        "sec(yemekler, 3)\n",
        "sec(tatlılar, 1, 4)\n",
        "\n"
      ],
      "metadata": {
        "colab": {
          "base_uri": "https://localhost:8080/"
        },
        "id": "QEFaNkozbUGe",
        "outputId": "453fbf74-bb09-49c3-ce98-f96921e1bfb3"
      },
      "execution_count": null,
      "outputs": [
        {
          "output_type": "execute_result",
          "data": {
            "text/plain": [
              "['a', 'b', 'f', 4]"
            ]
          },
          "metadata": {},
          "execution_count": 89
        }
      ]
    }
  ]
}