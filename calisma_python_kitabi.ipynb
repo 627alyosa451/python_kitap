{
  "nbformat": 4,
  "nbformat_minor": 0,
  "metadata": {
    "colab": {
      "provenance": [],
      "authorship_tag": "ABX9TyPFM2CilntDAODC5qdHO1f8",
      "include_colab_link": true
    },
    "kernelspec": {
      "name": "python3",
      "display_name": "Python 3"
    },
    "language_info": {
      "name": "python"
    }
  },
  "cells": [
    {
      "cell_type": "markdown",
      "metadata": {
        "id": "view-in-github",
        "colab_type": "text"
      },
      "source": [
        "<a href=\"https://colab.research.google.com/github/627alyosa451/python_kitap/blob/main/calisma_python_kitabi.ipynb\" target=\"_parent\"><img src=\"https://colab.research.google.com/assets/colab-badge.svg\" alt=\"Open In Colab\"/></a>"
      ]
    },
    {
      "cell_type": "code",
      "execution_count": null,
      "metadata": {
        "colab": {
          "base_uri": "https://localhost:8080/"
        },
        "id": "0XmJPnHmZH9l",
        "outputId": "262693e0-58bb-427b-9353-2309b3d6a9f9"
      },
      "outputs": [
        {
          "output_type": "stream",
          "name": "stdout",
          "text": [
            "[4, 6, 7, 3]\n",
            "[4, 6, 7, 3]\n",
            "[7, 3]\n",
            "[4, 6, 7, 3]\n"
          ]
        }
      ],
      "source": [
        "X = [4,6]\n",
        "Y = [7,3]\n",
        "\n",
        "def ABC(a,b):\n",
        "  for i in b:\n",
        "    a.append(i)\n",
        "  return a\n",
        "\n",
        "D = ABC(X,Y)\n",
        "print(D)\n",
        "print(X)\n",
        "print(Y)\n",
        "\n",
        "print(X[:])"
      ]
    },
    {
      "cell_type": "code",
      "source": [
        "numaralar = [1,2,3,4,5]\n",
        "n = numaralar[:]\n",
        "numaralar.append(6)\n",
        "print(numaralar)\n",
        "print(n)"
      ],
      "metadata": {
        "colab": {
          "base_uri": "https://localhost:8080/"
        },
        "id": "G0dF1FLKIbvA",
        "outputId": "bdc96e67-6a29-4da3-c329-d9ded9dd93d4"
      },
      "execution_count": null,
      "outputs": [
        {
          "output_type": "stream",
          "name": "stdout",
          "text": [
            "[1, 2, 3, 4, 5, 6]\n",
            "[1, 2, 3, 4, 5]\n"
          ]
        }
      ]
    },
    {
      "cell_type": "code",
      "source": [
        "ogrenciler = []\n",
        "\n",
        "ogrenciler.append([2, \"yavuz\"])\n",
        "ogrenciler.append([3, \"alper\"])\n",
        "print(ogrenciler[1][1])"
      ],
      "metadata": {
        "colab": {
          "base_uri": "https://localhost:8080/"
        },
        "id": "lfcgg3zWJSt0",
        "outputId": "70d1ec29-20a0-4806-d22b-eac3217d08ad"
      },
      "execution_count": null,
      "outputs": [
        {
          "output_type": "stream",
          "name": "stdout",
          "text": [
            "alper\n"
          ]
        }
      ]
    },
    {
      "cell_type": "code",
      "source": [
        "ogrenciler = [[27, \"Fatih Başer\"], [19, \"Dilek Arıyan\"], [56, \"Selim Yıldırım\"],[16, \"Tuğba Tüysüz\"], [52, \"Mehmet Abaylı\"] ]\n",
        "ogrenciler.sort()\n",
        "for i in range(len(ogrenciler)):\n",
        "  print(ogrenciler[i][0],\"numaralı öğrencinin adı: \",ogrenciler[i][1])"
      ],
      "metadata": {
        "colab": {
          "base_uri": "https://localhost:8080/"
        },
        "id": "nf7XfMsyKQX9",
        "outputId": "454c1047-b4b4-41e2-f472-8d76337f1306"
      },
      "execution_count": null,
      "outputs": [
        {
          "output_type": "stream",
          "name": "stdout",
          "text": [
            "16 numaralı öğrencinin adı:  Tuğba Tüysüz\n",
            "19 numaralı öğrencinin adı:  Dilek Arıyan\n",
            "27 numaralı öğrencinin adı:  Fatih Başer\n",
            "52 numaralı öğrencinin adı:  Mehmet Abaylı\n",
            "56 numaralı öğrencinin adı:  Selim Yıldırım\n"
          ]
        }
      ]
    },
    {
      "cell_type": "code",
      "source": [
        "kitaplar= [\n",
        "    [4, \"Python\", \"Başer\", 17],\n",
        "    [9, \"Komedya\", \"Dante\", 18],\n",
        "    [5, \"C\", \"Mustafa\", 29]\n",
        "\n",
        "]\n",
        "\n",
        "while 1:\n",
        "  kitapNo = input(\"kitap numarasını giriniz: \")\n",
        "  if kitapNo != \"ç\":\n",
        "    for x in kitaplar:\n",
        "      if int(kitapNo) > int(x[3]):\n",
        "        print(\"kitabın adı: \", x[1], \"yazarı: \", x[2], \"fiyatı: \", x[3], \"tl\")\n",
        "\n",
        "\n",
        "\n",
        "  else:\n",
        "    break\n"
      ],
      "metadata": {
        "colab": {
          "base_uri": "https://localhost:8080/"
        },
        "id": "9zx_9ygYNq9K",
        "outputId": "a93aa7b8-ed8d-4505-b7c3-487178f0ebe1"
      },
      "execution_count": null,
      "outputs": [
        {
          "name": "stdout",
          "output_type": "stream",
          "text": [
            "kitap numarasını giriniz: 30\n",
            "kitabın adı:  Python yazarı:  Başer fiyatı:  17 tl\n",
            "kitabın adı:  Komedya yazarı:  Dante fiyatı:  18 tl\n",
            "kitabın adı:  C yazarı:  Mustafa fiyatı:  29 tl\n",
            "kitap numarasını giriniz: ç\n"
          ]
        }
      ]
    },
    {
      "cell_type": "code",
      "source": [],
      "metadata": {
        "colab": {
          "base_uri": "https://localhost:8080/",
          "height": 148
        },
        "id": "jtlo4IboST6x",
        "outputId": "76bea626-9696-484d-ee36-9c712322e192"
      },
      "execution_count": null,
      "outputs": [
        {
          "output_type": "error",
          "ename": "AttributeError",
          "evalue": "'str' object has no attribute 'clear'",
          "traceback": [
            "\u001b[0;31m---------------------------------------------------------------------------\u001b[0m",
            "\u001b[0;31mAttributeError\u001b[0m                            Traceback (most recent call last)",
            "\u001b[0;32m<ipython-input-50-acb08ba197bf>\u001b[0m in \u001b[0;36m<cell line: 1>\u001b[0;34m()\u001b[0m\n\u001b[0;32m----> 1\u001b[0;31m \u001b[0mm\u001b[0m\u001b[0;34m.\u001b[0m\u001b[0mclear\u001b[0m\u001b[0;34m.\u001b[0m\u001b[0mdoc\u001b[0m\u001b[0;34m\u001b[0m\u001b[0;34m\u001b[0m\u001b[0m\n\u001b[0m",
            "\u001b[0;31mAttributeError\u001b[0m: 'str' object has no attribute 'clear'"
          ]
        }
      ]
    },
    {
      "cell_type": "code",
      "source": [
        "print(\"Python çok \\t kolay bir \\t dil\")"
      ],
      "metadata": {
        "colab": {
          "base_uri": "https://localhost:8080/"
        },
        "id": "G7i9zlUnmBDk",
        "outputId": "b1004a7c-28a9-410f-91a3-08ff598c1b70"
      },
      "execution_count": null,
      "outputs": [
        {
          "output_type": "stream",
          "name": "stdout",
          "text": [
            "Python çok \t kolay bir \t dil\n"
          ]
        }
      ]
    },
    {
      "cell_type": "code",
      "source": [
        "yerlesimYerleri = [\"Bolu\",\"Yozgat\",\"İnebolu\",\"Manavgat\",\"Çanakkale\",\"Çan\",\"Kırıkkale\",\"Tirebolucuk\"]\n",
        "\n",
        "def ara(kelime, altkelime):\n",
        "  if altkelime[-1] == \"*\":\n",
        "    kucuk = kelime.lower()\n",
        "    if kucuk.startswith(altkelime[:-1].lower()):\n",
        "      return kelime\n",
        "  else:\n",
        "    if kelime == altkelime:\n",
        "      return kelime\n",
        "\n",
        "\n",
        "def bul(altkelime):\n",
        "  for i in yerlesimYerleri:\n",
        "    f =ara(i, altkelime)\n",
        "    if f: print(f)\n",
        "\n",
        "aranacakKelime = input(\"Aramak istediğiniz kelimeyi giriniz: \")\n",
        "bul(aranacakKelime)"
      ],
      "metadata": {
        "id": "XvJjoIBeyuVu",
        "colab": {
          "base_uri": "https://localhost:8080/"
        },
        "outputId": "92e3beb1-314f-4bbb-cdb0-047e1952df8a"
      },
      "execution_count": null,
      "outputs": [
        {
          "output_type": "stream",
          "name": "stdout",
          "text": [
            "Aramak istediğiniz kelimeyi giriniz: ç*\n",
            "Çanakkale\n",
            "Çan\n"
          ]
        }
      ]
    },
    {
      "cell_type": "code",
      "source": [
        "yerlesimYerleri = [\"Bolu\",\"Yozgat\",\"İnebolu\",\"Manavgat\",\"Çanakkale\",\"Çan\",\"Kırıkkale\",\"Tirebolucuk\",\"ça\"]\n",
        "\n",
        "def ara(kelime, altkelime):\n",
        "  kucuk = altkelime.lower()\n",
        "  sozlukk = kelime.lower()\n",
        "  if kucuk.endswith(\"*\"):\n",
        "    if sozlukk.startswith(kucuk[:-1]):\n",
        "      return kelime\n",
        "    else:\n",
        "      if kucuk[:-1] in sozlukk:\n",
        "        return kelime\n",
        "\n",
        "  else:\n",
        "    if kucuk.startswith(\"*\"):\n",
        "      if sozlukk.endswith(kucuk[1:]):\n",
        "        return kelime\n",
        "    if kelime.lower() == kucuk:\n",
        "      print(kelime)\n",
        "\n",
        "def bul(altkelime):\n",
        "  for i in yerlesimYerleri:\n",
        "    sonuc = ara(i,altkelime)\n",
        "    if sonuc: print(sonuc)\n",
        "\n",
        "\n",
        "\n",
        "arananKelime = input(\"Aramak istediğiniz kelimeyi yazınız: \")\n",
        "bul(arananKelime)"
      ],
      "metadata": {
        "colab": {
          "base_uri": "https://localhost:8080/"
        },
        "id": "gXt_7sdROqRt",
        "outputId": "6acbc995-ab3e-473b-83bc-641940c7abc7"
      },
      "execution_count": null,
      "outputs": [
        {
          "output_type": "stream",
          "name": "stdout",
          "text": [
            "Aramak istediğiniz kelimeyi yazınız: an*\n",
            "Manavgat\n",
            "Çanakkale\n",
            "Çan\n"
          ]
        }
      ]
    },
    {
      "cell_type": "code",
      "source": [
        "eposta = \"selimyıldırım@gmail.com\"\n",
        "liste = [kullanici, alan] = eposta.split(\"@\")\n",
        "print(liste)\n",
        "\n",
        "yeni =\"@\".join(liste)\n",
        "print(yeni)"
      ],
      "metadata": {
        "colab": {
          "base_uri": "https://localhost:8080/"
        },
        "id": "Phrl6K5MI6MV",
        "outputId": "b8693979-ec39-43db-9f8c-917a2f59b5c3"
      },
      "execution_count": null,
      "outputs": [
        {
          "output_type": "stream",
          "name": "stdout",
          "text": [
            "['selimyıldırım', 'gmail.com']\n",
            "selimyıldırım@gmail.com\n"
          ]
        }
      ]
    },
    {
      "cell_type": "code",
      "source": [
        "y = \"     aleksey karamazov\"\n",
        "print(y)\n",
        "print(y.replace(\" \", \"_\"))\n",
        "print(y.strip())"
      ],
      "metadata": {
        "colab": {
          "base_uri": "https://localhost:8080/"
        },
        "id": "RDYA_OikKbvT",
        "outputId": "9d18c95d-1be5-4623-cf76-5631c115ed4d"
      },
      "execution_count": null,
      "outputs": [
        {
          "output_type": "stream",
          "name": "stdout",
          "text": [
            "     aleksey karamazov\n",
            "_____aleksey_karamazov\n",
            "aleksey karamazov\n"
          ]
        }
      ]
    },
    {
      "cell_type": "code",
      "source": [
        "r = input(\"Çemberin yarıçapı: \")\n",
        "if r.count(\".\") in [0,1] and r.replace(\".\",\"\").isnumeric():\n",
        "  c= 2*3.14*float(r)\n",
        "  print(\"çmberin çevresi %f\"%c)\n",
        "else:\n",
        "  if r.count(\",\") in [0,1] and r.replace(\",\",\"\").isnumeric():\n",
        "    y = r.replace(\",\",\".\")\n",
        "    c =2*3.14*float(y)\n",
        "    print(\"çemberin çevresi\", c)\n",
        "  else:\n",
        "    print(\"geçerli değil\")"
      ],
      "metadata": {
        "colab": {
          "base_uri": "https://localhost:8080/"
        },
        "id": "heBTqwmhNNCj",
        "outputId": "21c2cdbf-c8ae-46fd-a843-55271768388b"
      },
      "execution_count": null,
      "outputs": [
        {
          "output_type": "stream",
          "name": "stdout",
          "text": [
            "Çemberin yarıçapı: 1,0\n",
            "çemberin çevresi 6.28\n"
          ]
        }
      ]
    },
    {
      "cell_type": "code",
      "source": [],
      "metadata": {
        "id": "_SGL6NldPYLn"
      },
      "execution_count": null,
      "outputs": []
    }
  ]
}